{
 "cells": [
  {
   "cell_type": "markdown",
   "id": "bound-clearing",
   "metadata": {},
   "source": [
    "# Projecto de Neurociencias\n",
    "## Clasificador de tumores de alto y bajo grado\n",
    "### Integrantes del equipo: Alfonso Toriz Vázquez, Michelle Dubhé Mata Hernández, Xiao Wei Zhou, André Mendez Vera, Valeria Valenzuela López y Gerardo De Jesús Navarrete"
   ]
  },
  {
   "cell_type": "markdown",
   "id": "wound-entertainment",
   "metadata": {},
   "source": [
    "#### Importamos las librerías"
   ]
  },
  {
   "cell_type": "code",
   "execution_count": 7,
   "id": "supposed-serve",
   "metadata": {},
   "outputs": [],
   "source": [
    "import numpy as np\n",
    "import matplotlib.pyplot as plt\n",
    "import itk\n",
    "import mahotas as mh\n",
    "import os\n",
    "from glob import glob\n",
    "from itkwidgets import view\n",
    "import json"
   ]
  },
  {
   "cell_type": "markdown",
   "id": "demographic-sympathy",
   "metadata": {},
   "source": [
    "#### Exploramos los archivos\n",
    "Utilizaremos un diccionario para organizar los archivos en diferentes categorías:\n",
    "* Grado del Tumor (HG, LG)\n",
    "    * Número de Caso\n",
    "        * Tipo de Imagen [Flair, T1, T1c, T2, Máscaras]"
   ]
  },
  {
   "cell_type": "code",
   "execution_count": 8,
   "id": "least-humanity",
   "metadata": {},
   "outputs": [],
   "source": [
    "# Directorio base\n",
    "path = \"/home/atoriz98/Datasets/BrainGliomas/GliomasImages\"\n",
    "\n",
    "files = glob(path + \"/**/*.mha\", recursive = True)\n",
    "\n",
    "# Dictionaries and list to organize files\n",
    "Dataset = {'HG': {}, 'LG': {}}\n",
    "id_HG = np.asarray([])\n",
    "id_LG = np.asarray([])\n",
    "\n",
    "# Image types\n",
    "types = ['Flair', 'T1', 'T1c', 'T2', 'OT']"
   ]
  },
  {
   "cell_type": "code",
   "execution_count": 9,
   "id": "fossil-marshall",
   "metadata": {
    "tags": []
   },
   "outputs": [],
   "source": [
    "# Add cases names\n",
    "for file in files:\n",
    "    if 'HG' in file:\n",
    "        id_HG = np.append(id_HG, file.split('/')[7])\n",
    "    else:\n",
    "        id_LG = np.append(id_LG, file.split('/')[7])\n",
    "        \n",
    "# Find all unique values of cases\n",
    "for unique in np.unique(id_HG):\n",
    "    Dataset['HG'][unique] = {}\n",
    "    for img in types:\n",
    "        Dataset['HG'][unique][img] = {}\n",
    "for unique in np.unique(id_LG):\n",
    "    Dataset['LG'][unique] = {}\n",
    "    for img in types:\n",
    "        Dataset['LG'][unique][img] = {}\n",
    "\n",
    "# Fill Dataset dictionary accordingly    \n",
    "for grade in Dataset.keys(): # HG LG\n",
    "    for case in Dataset[grade].keys(): # Num\n",
    "        for img in types: # Flair, Tc1, Tc2 ...\n",
    "            for file in files:\n",
    "                route = file.split('/')\n",
    "                if route[6] == grade and route[7] == case and route[8].endswith(img):\n",
    "                    Dataset[grade][case][img] = file"
   ]
  },
  {
   "cell_type": "markdown",
   "id": "increasing-fitness",
   "metadata": {},
   "source": [
    "#### Imprimimos nuestro diccionario organizado"
   ]
  },
  {
   "cell_type": "code",
   "execution_count": 10,
   "id": "disturbed-database",
   "metadata": {
    "tags": []
   },
   "outputs": [
    {
     "name": "stdout",
     "output_type": "stream",
     "text": [
      "{\n",
      "    \"HG\": {\n",
      "        \"0001\": {\n",
      "            \"Flair\": \"/home/atoriz98/Datasets/BrainGliomas/GliomasImages/HG/0001/VSD.Brain.XX.O.MR_Flair/VSD.Brain.XX.O.MR_Flair.684.mha\",\n",
      "            \"T1\": \"/home/atoriz98/Datasets/BrainGliomas/GliomasImages/HG/0001/VSD.Brain.XX.O.MR_T1/VSD.Brain.XX.O.MR_T1.685.mha\",\n",
      "            \"T1c\": \"/home/atoriz98/Datasets/BrainGliomas/GliomasImages/HG/0001/VSD.Brain.XX.O.MR_T1c/VSD.Brain.XX.O.MR_T1c.686.mha\",\n",
      "            \"T2\": \"/home/atoriz98/Datasets/BrainGliomas/GliomasImages/HG/0001/VSD.Brain.XX.O.MR_T2/VSD.Brain.XX.O.MR_T2.687.mha\",\n",
      "            \"OT\": \"/home/atoriz98/Datasets/BrainGliomas/GliomasImages/HG/0001/VSD.Brain_3more.XX.XX.OT/VSD.Brain_3more.XX.XX.OT.6560.mha\"\n",
      "        },\n",
      "        \"0002\": {\n",
      "            \"Flair\": \"/home/atoriz98/Datasets/BrainGliomas/GliomasImages/HG/0002/VSD.Brain.XX.O.MR_Flair/VSD.Brain.XX.O.MR_Flair.691.mha\",\n",
      "            \"T1\": \"/home/atoriz98/Datasets/BrainGliomas/GliomasImages/HG/0002/VSD.Brain.XX.O.MR_T1/VSD.Brain.XX.O.MR_T1.692.mha\",\n",
      "            \"T1c\": \"/home/atoriz98/Datasets/BrainGliomas/GliomasImages/HG/0002/VSD.Brain.XX.O.MR_T1c/VSD.Brain.XX.O.MR_T1c.693.mha\",\n",
      "            \"T2\": \"/home/atoriz98/Datasets/BrainGliomas/GliomasImages/HG/0002/VSD.Brain.XX.O.MR_T2/VSD.Brain.XX.O.MR_T2.694.mha\",\n",
      "            \"OT\": \"/home/atoriz98/Datasets/BrainGliomas/GliomasImages/HG/0002/VSD.Brain_3more.XX.XX.OT/VSD.Brain_3more.XX.XX.OT.6562.mha\"\n",
      "        },\n",
      "        \"0003\": {\n",
      "            \"Flair\": \"/home/atoriz98/Datasets/BrainGliomas/GliomasImages/HG/0003/VSD.Brain.XX.O.MR_Flair/VSD.Brain.XX.O.MR_Flair.697.mha\",\n",
      "            \"T1\": \"/home/atoriz98/Datasets/BrainGliomas/GliomasImages/HG/0003/VSD.Brain.XX.O.MR_T1/VSD.Brain.XX.O.MR_T1.698.mha\",\n",
      "            \"T1c\": \"/home/atoriz98/Datasets/BrainGliomas/GliomasImages/HG/0003/VSD.Brain.XX.O.MR_T1c/VSD.Brain.XX.O.MR_T1c.699.mha\",\n",
      "            \"T2\": \"/home/atoriz98/Datasets/BrainGliomas/GliomasImages/HG/0003/VSD.Brain.XX.O.MR_T2/VSD.Brain.XX.O.MR_T2.700.mha\",\n",
      "            \"OT\": \"/home/atoriz98/Datasets/BrainGliomas/GliomasImages/HG/0003/VSD.Brain_3more.XX.XX.OT/VSD.Brain_3more.XX.XX.OT.6564.mha\"\n",
      "        },\n",
      "        \"0004\": {\n",
      "            \"Flair\": \"/home/atoriz98/Datasets/BrainGliomas/GliomasImages/HG/0004/VSD.Brain.XX.O.MR_Flair/VSD.Brain.XX.O.MR_Flair.703.mha\",\n",
      "            \"T1\": \"/home/atoriz98/Datasets/BrainGliomas/GliomasImages/HG/0004/VSD.Brain.XX.O.MR_T1/VSD.Brain.XX.O.MR_T1.704.mha\",\n",
      "            \"T1c\": \"/home/atoriz98/Datasets/BrainGliomas/GliomasImages/HG/0004/VSD.Brain.XX.O.MR_T1c/VSD.Brain.XX.O.MR_T1c.705.mha\",\n",
      "            \"T2\": \"/home/atoriz98/Datasets/BrainGliomas/GliomasImages/HG/0004/VSD.Brain.XX.O.MR_T2/VSD.Brain.XX.O.MR_T2.706.mha\",\n",
      "            \"OT\": \"/home/atoriz98/Datasets/BrainGliomas/GliomasImages/HG/0004/VSD.Brain_3more.XX.XX.OT/VSD.Brain_3more.XX.XX.OT.6566.mha\"\n",
      "        },\n",
      "        \"0005\": {\n",
      "            \"Flair\": \"/home/atoriz98/Datasets/BrainGliomas/GliomasImages/HG/0005/VSD.Brain.XX.O.MR_Flair/VSD.Brain.XX.O.MR_Flair.709.mha\",\n",
      "            \"T1\": \"/home/atoriz98/Datasets/BrainGliomas/GliomasImages/HG/0005/VSD.Brain.XX.O.MR_T1/VSD.Brain.XX.O.MR_T1.710.mha\",\n",
      "            \"T1c\": \"/home/atoriz98/Datasets/BrainGliomas/GliomasImages/HG/0005/VSD.Brain.XX.O.MR_T1c/VSD.Brain.XX.O.MR_T1c.711.mha\",\n",
      "            \"T2\": \"/home/atoriz98/Datasets/BrainGliomas/GliomasImages/HG/0005/VSD.Brain.XX.O.MR_T2/VSD.Brain.XX.O.MR_T2.712.mha\",\n",
      "            \"OT\": \"/home/atoriz98/Datasets/BrainGliomas/GliomasImages/HG/0005/VSD.Brain_3more.XX.XX.OT/VSD.Brain_3more.XX.XX.OT.6568.mha\"\n",
      "        },\n",
      "        \"0006\": {\n",
      "            \"Flair\": \"/home/atoriz98/Datasets/BrainGliomas/GliomasImages/HG/0006/VSD.Brain.XX.O.MR_Flair/VSD.Brain.XX.O.MR_Flair.715.mha\",\n",
      "            \"T1\": \"/home/atoriz98/Datasets/BrainGliomas/GliomasImages/HG/0006/VSD.Brain.XX.O.MR_T1/VSD.Brain.XX.O.MR_T1.716.mha\",\n",
      "            \"T1c\": \"/home/atoriz98/Datasets/BrainGliomas/GliomasImages/HG/0006/VSD.Brain.XX.O.MR_T1c/VSD.Brain.XX.O.MR_T1c.717.mha\",\n",
      "            \"T2\": \"/home/atoriz98/Datasets/BrainGliomas/GliomasImages/HG/0006/VSD.Brain.XX.O.MR_T2/VSD.Brain.XX.O.MR_T2.718.mha\",\n",
      "            \"OT\": \"/home/atoriz98/Datasets/BrainGliomas/GliomasImages/HG/0006/VSD.Brain_3more.XX.XX.OT/VSD.Brain_3more.XX.XX.OT.6570.mha\"\n",
      "        },\n",
      "        \"0007\": {\n",
      "            \"Flair\": \"/home/atoriz98/Datasets/BrainGliomas/GliomasImages/HG/0007/VSD.Brain.XX.O.MR_Flair/VSD.Brain.XX.O.MR_Flair.721.mha\",\n",
      "            \"T1\": \"/home/atoriz98/Datasets/BrainGliomas/GliomasImages/HG/0007/VSD.Brain.XX.O.MR_T1/VSD.Brain.XX.O.MR_T1.722.mha\",\n",
      "            \"T1c\": \"/home/atoriz98/Datasets/BrainGliomas/GliomasImages/HG/0007/VSD.Brain.XX.O.MR_T1c/VSD.Brain.XX.O.MR_T1c.723.mha\",\n",
      "            \"T2\": \"/home/atoriz98/Datasets/BrainGliomas/GliomasImages/HG/0007/VSD.Brain.XX.O.MR_T2/VSD.Brain.XX.O.MR_T2.724.mha\",\n",
      "            \"OT\": \"/home/atoriz98/Datasets/BrainGliomas/GliomasImages/HG/0007/VSD.Brain_3more.XX.XX.OT/VSD.Brain_3more.XX.XX.OT.6572.mha\"\n",
      "        },\n",
      "        \"0008\": {\n",
      "            \"Flair\": \"/home/atoriz98/Datasets/BrainGliomas/GliomasImages/HG/0008/VSD.Brain.XX.O.MR_Flair/VSD.Brain.XX.O.MR_Flair.727.mha\",\n",
      "            \"T1\": \"/home/atoriz98/Datasets/BrainGliomas/GliomasImages/HG/0008/VSD.Brain.XX.O.MR_T1/VSD.Brain.XX.O.MR_T1.728.mha\",\n",
      "            \"T1c\": \"/home/atoriz98/Datasets/BrainGliomas/GliomasImages/HG/0008/VSD.Brain.XX.O.MR_T1c/VSD.Brain.XX.O.MR_T1c.729.mha\",\n",
      "            \"T2\": \"/home/atoriz98/Datasets/BrainGliomas/GliomasImages/HG/0008/VSD.Brain.XX.O.MR_T2/VSD.Brain.XX.O.MR_T2.730.mha\",\n",
      "            \"OT\": \"/home/atoriz98/Datasets/BrainGliomas/GliomasImages/HG/0008/VSD.Brain_3more.XX.XX.OT/VSD.Brain_3more.XX.XX.OT.6574.mha\"\n",
      "        },\n",
      "        \"0009\": {\n",
      "            \"Flair\": \"/home/atoriz98/Datasets/BrainGliomas/GliomasImages/HG/0009/VSD.Brain.XX.O.MR_Flair/VSD.Brain.XX.O.MR_Flair.733.mha\",\n",
      "            \"T1\": \"/home/atoriz98/Datasets/BrainGliomas/GliomasImages/HG/0009/VSD.Brain.XX.O.MR_T1/VSD.Brain.XX.O.MR_T1.734.mha\",\n",
      "            \"T1c\": \"/home/atoriz98/Datasets/BrainGliomas/GliomasImages/HG/0009/VSD.Brain.XX.O.MR_T1c/VSD.Brain.XX.O.MR_T1c.735.mha\",\n",
      "            \"T2\": \"/home/atoriz98/Datasets/BrainGliomas/GliomasImages/HG/0009/VSD.Brain.XX.O.MR_T2/VSD.Brain.XX.O.MR_T2.736.mha\",\n",
      "            \"OT\": \"/home/atoriz98/Datasets/BrainGliomas/GliomasImages/HG/0009/VSD.Brain_3more.XX.XX.OT/VSD.Brain_3more.XX.XX.OT.6576.mha\"\n",
      "        },\n",
      "        \"0010\": {\n",
      "            \"Flair\": \"/home/atoriz98/Datasets/BrainGliomas/GliomasImages/HG/0010/VSD.Brain.XX.O.MR_Flair/VSD.Brain.XX.O.MR_Flair.739.mha\",\n",
      "            \"T1\": \"/home/atoriz98/Datasets/BrainGliomas/GliomasImages/HG/0010/VSD.Brain.XX.O.MR_T1/VSD.Brain.XX.O.MR_T1.740.mha\",\n",
      "            \"T1c\": \"/home/atoriz98/Datasets/BrainGliomas/GliomasImages/HG/0010/VSD.Brain.XX.O.MR_T1c/VSD.Brain.XX.O.MR_T1c.741.mha\",\n",
      "            \"T2\": \"/home/atoriz98/Datasets/BrainGliomas/GliomasImages/HG/0010/VSD.Brain.XX.O.MR_T2/VSD.Brain.XX.O.MR_T2.742.mha\",\n",
      "            \"OT\": \"/home/atoriz98/Datasets/BrainGliomas/GliomasImages/HG/0010/VSD.Brain_3more.XX.XX.OT/VSD.Brain_3more.XX.XX.OT.6578.mha\"\n",
      "        },\n",
      "        \"0011\": {\n",
      "            \"Flair\": \"/home/atoriz98/Datasets/BrainGliomas/GliomasImages/HG/0011/VSD.Brain.XX.O.MR_Flair/VSD.Brain.XX.O.MR_Flair.745.mha\",\n",
      "            \"T1\": \"/home/atoriz98/Datasets/BrainGliomas/GliomasImages/HG/0011/VSD.Brain.XX.O.MR_T1/VSD.Brain.XX.O.MR_T1.746.mha\",\n",
      "            \"T1c\": \"/home/atoriz98/Datasets/BrainGliomas/GliomasImages/HG/0011/VSD.Brain.XX.O.MR_T1c/VSD.Brain.XX.O.MR_T1c.747.mha\",\n",
      "            \"T2\": \"/home/atoriz98/Datasets/BrainGliomas/GliomasImages/HG/0011/VSD.Brain.XX.O.MR_T2/VSD.Brain.XX.O.MR_T2.748.mha\",\n",
      "            \"OT\": \"/home/atoriz98/Datasets/BrainGliomas/GliomasImages/HG/0011/VSD.Brain_3more.XX.XX.OT/VSD.Brain_3more.XX.XX.OT.6580.mha\"\n",
      "        },\n",
      "        \"0012\": {\n",
      "            \"Flair\": \"/home/atoriz98/Datasets/BrainGliomas/GliomasImages/HG/0012/VSD.Brain.XX.O.MR_Flair/VSD.Brain.XX.O.MR_Flair.751.mha\",\n",
      "            \"T1\": \"/home/atoriz98/Datasets/BrainGliomas/GliomasImages/HG/0012/VSD.Brain.XX.O.MR_T1/VSD.Brain.XX.O.MR_T1.752.mha\",\n",
      "            \"T1c\": \"/home/atoriz98/Datasets/BrainGliomas/GliomasImages/HG/0012/VSD.Brain.XX.O.MR_T1c/VSD.Brain.XX.O.MR_T1c.753.mha\",\n",
      "            \"T2\": \"/home/atoriz98/Datasets/BrainGliomas/GliomasImages/HG/0012/VSD.Brain.XX.O.MR_T2/VSD.Brain.XX.O.MR_T2.754.mha\",\n",
      "            \"OT\": \"/home/atoriz98/Datasets/BrainGliomas/GliomasImages/HG/0012/VSD.Brain_3more.XX.XX.OT/VSD.Brain_3more.XX.XX.OT.6582.mha\"\n",
      "        },\n",
      "        \"0013\": {\n",
      "            \"Flair\": \"/home/atoriz98/Datasets/BrainGliomas/GliomasImages/HG/0013/VSD.Brain.XX.O.MR_Flair/VSD.Brain.XX.O.MR_Flair.757.mha\",\n",
      "            \"T1\": \"/home/atoriz98/Datasets/BrainGliomas/GliomasImages/HG/0013/VSD.Brain.XX.O.MR_T1/VSD.Brain.XX.O.MR_T1.758.mha\",\n",
      "            \"T1c\": \"/home/atoriz98/Datasets/BrainGliomas/GliomasImages/HG/0013/VSD.Brain.XX.O.MR_T1c/VSD.Brain.XX.O.MR_T1c.759.mha\",\n",
      "            \"T2\": \"/home/atoriz98/Datasets/BrainGliomas/GliomasImages/HG/0013/VSD.Brain.XX.O.MR_T2/VSD.Brain.XX.O.MR_T2.760.mha\",\n",
      "            \"OT\": \"/home/atoriz98/Datasets/BrainGliomas/GliomasImages/HG/0013/VSD.Brain_3more.XX.XX.OT/VSD.Brain_3more.XX.XX.OT.6584.mha\"\n",
      "        },\n",
      "        \"0014\": {\n",
      "            \"Flair\": \"/home/atoriz98/Datasets/BrainGliomas/GliomasImages/HG/0014/VSD.Brain.XX.O.MR_Flair/VSD.Brain.XX.O.MR_Flair.763.mha\",\n",
      "            \"T1\": \"/home/atoriz98/Datasets/BrainGliomas/GliomasImages/HG/0014/VSD.Brain.XX.O.MR_T1/VSD.Brain.XX.O.MR_T1.764.mha\",\n",
      "            \"T1c\": \"/home/atoriz98/Datasets/BrainGliomas/GliomasImages/HG/0014/VSD.Brain.XX.O.MR_T1c/VSD.Brain.XX.O.MR_T1c.765.mha\",\n",
      "            \"T2\": \"/home/atoriz98/Datasets/BrainGliomas/GliomasImages/HG/0014/VSD.Brain.XX.O.MR_T2/VSD.Brain.XX.O.MR_T2.766.mha\",\n",
      "            \"OT\": \"/home/atoriz98/Datasets/BrainGliomas/GliomasImages/HG/0014/VSD.Brain_3more.XX.XX.OT/VSD.Brain_3more.XX.XX.OT.6586.mha\"\n",
      "        },\n",
      "        \"0015\": {\n",
      "            \"Flair\": \"/home/atoriz98/Datasets/BrainGliomas/GliomasImages/HG/0015/VSD.Brain.XX.O.MR_Flair/VSD.Brain.XX.O.MR_Flair.769.mha\",\n",
      "            \"T1\": \"/home/atoriz98/Datasets/BrainGliomas/GliomasImages/HG/0015/VSD.Brain.XX.O.MR_T1/VSD.Brain.XX.O.MR_T1.770.mha\",\n",
      "            \"T1c\": \"/home/atoriz98/Datasets/BrainGliomas/GliomasImages/HG/0015/VSD.Brain.XX.O.MR_T1c/VSD.Brain.XX.O.MR_T1c.771.mha\",\n",
      "            \"T2\": \"/home/atoriz98/Datasets/BrainGliomas/GliomasImages/HG/0015/VSD.Brain.XX.O.MR_T2/VSD.Brain.XX.O.MR_T2.772.mha\",\n",
      "            \"OT\": \"/home/atoriz98/Datasets/BrainGliomas/GliomasImages/HG/0015/VSD.Brain_3more.XX.XX.OT/VSD.Brain_3more.XX.XX.OT.6588.mha\"\n",
      "        },\n",
      "        \"0022\": {\n",
      "            \"Flair\": \"/home/atoriz98/Datasets/BrainGliomas/GliomasImages/HG/0022/VSD.Brain.XX.O.MR_Flair/VSD.Brain.XX.O.MR_Flair.775.mha\",\n",
      "            \"T1\": \"/home/atoriz98/Datasets/BrainGliomas/GliomasImages/HG/0022/VSD.Brain.XX.O.MR_T1/VSD.Brain.XX.O.MR_T1.776.mha\",\n",
      "            \"T1c\": \"/home/atoriz98/Datasets/BrainGliomas/GliomasImages/HG/0022/VSD.Brain.XX.O.MR_T1c/VSD.Brain.XX.O.MR_T1c.777.mha\",\n",
      "            \"T2\": {},\n",
      "            \"OT\": \"/home/atoriz98/Datasets/BrainGliomas/GliomasImages/HG/0022/VSD.Brain_3more.XX.XX.OT/VSD.Brain_3more.XX.XX.OT.6590.mha\"\n",
      "        },\n",
      "        \"0024\": {\n",
      "            \"Flair\": \"/home/atoriz98/Datasets/BrainGliomas/GliomasImages/HG/0024/VSD.Brain.XX.O.MR_Flair/VSD.Brain.XX.O.MR_Flair.781.mha\",\n",
      "            \"T1\": \"/home/atoriz98/Datasets/BrainGliomas/GliomasImages/HG/0024/VSD.Brain.XX.O.MR_T1/VSD.Brain.XX.O.MR_T1.782.mha\",\n",
      "            \"T1c\": \"/home/atoriz98/Datasets/BrainGliomas/GliomasImages/HG/0024/VSD.Brain.XX.O.MR_T1c/VSD.Brain.XX.O.MR_T1c.783.mha\",\n",
      "            \"T2\": \"/home/atoriz98/Datasets/BrainGliomas/GliomasImages/HG/0024/VSD.Brain.XX.O.MR_T2/VSD.Brain.XX.O.MR_T2.784.mha\",\n",
      "            \"OT\": \"/home/atoriz98/Datasets/BrainGliomas/GliomasImages/HG/0024/VSD.Brain_3more.XX.XX.OT/VSD.Brain_3more.XX.XX.OT.6592.mha\"\n",
      "        },\n",
      "        \"0025\": {\n",
      "            \"Flair\": \"/home/atoriz98/Datasets/BrainGliomas/GliomasImages/HG/0025/VSD.Brain.XX.O.MR_Flair/VSD.Brain.XX.O.MR_Flair.787.mha\",\n",
      "            \"T1\": \"/home/atoriz98/Datasets/BrainGliomas/GliomasImages/HG/0025/VSD.Brain.XX.O.MR_T1/VSD.Brain.XX.O.MR_T1.788.mha\",\n",
      "            \"T1c\": \"/home/atoriz98/Datasets/BrainGliomas/GliomasImages/HG/0025/VSD.Brain.XX.O.MR_T1c/VSD.Brain.XX.O.MR_T1c.789.mha\",\n",
      "            \"T2\": \"/home/atoriz98/Datasets/BrainGliomas/GliomasImages/HG/0025/VSD.Brain.XX.O.MR_T2/VSD.Brain.XX.O.MR_T2.790.mha\",\n",
      "            \"OT\": \"/home/atoriz98/Datasets/BrainGliomas/GliomasImages/HG/0025/VSD.Brain_3more.XX.XX.OT/VSD.Brain_3more.XX.XX.OT.6594.mha\"\n",
      "        },\n",
      "        \"0026\": {\n",
      "            \"Flair\": \"/home/atoriz98/Datasets/BrainGliomas/GliomasImages/HG/0026/VSD.Brain.XX.O.MR_Flair/VSD.Brain.XX.O.MR_Flair.793.mha\",\n",
      "            \"T1\": \"/home/atoriz98/Datasets/BrainGliomas/GliomasImages/HG/0026/VSD.Brain.XX.O.MR_T1/VSD.Brain.XX.O.MR_T1.794.mha\",\n",
      "            \"T1c\": \"/home/atoriz98/Datasets/BrainGliomas/GliomasImages/HG/0026/VSD.Brain.XX.O.MR_T1c/VSD.Brain.XX.O.MR_T1c.795.mha\",\n",
      "            \"T2\": \"/home/atoriz98/Datasets/BrainGliomas/GliomasImages/HG/0026/VSD.Brain.XX.O.MR_T2/VSD.Brain.XX.O.MR_T2.796.mha\",\n",
      "            \"OT\": \"/home/atoriz98/Datasets/BrainGliomas/GliomasImages/HG/0026/VSD.Brain_3more.XX.XX.OT/VSD.Brain_3more.XX.XX.OT.6596.mha\"\n",
      "        },\n",
      "        \"0027\": {\n",
      "            \"Flair\": \"/home/atoriz98/Datasets/BrainGliomas/GliomasImages/HG/0027/VSD.Brain.XX.O.MR_Flair/VSD.Brain.XX.O.MR_Flair.799.mha\",\n",
      "            \"T1\": \"/home/atoriz98/Datasets/BrainGliomas/GliomasImages/HG/0027/VSD.Brain.XX.O.MR_T1/VSD.Brain.XX.O.MR_T1.800.mha\",\n",
      "            \"T1c\": \"/home/atoriz98/Datasets/BrainGliomas/GliomasImages/HG/0027/VSD.Brain.XX.O.MR_T1c/VSD.Brain.XX.O.MR_T1c.801.mha\",\n",
      "            \"T2\": \"/home/atoriz98/Datasets/BrainGliomas/GliomasImages/HG/0027/VSD.Brain.XX.O.MR_T2/VSD.Brain.XX.O.MR_T2.802.mha\",\n",
      "            \"OT\": \"/home/atoriz98/Datasets/BrainGliomas/GliomasImages/HG/0027/VSD.Brain_3more.XX.XX.OT/VSD.Brain_3more.XX.XX.OT.6598.mha\"\n",
      "        }\n",
      "    },\n",
      "    \"LG\": {\n",
      "        \"0001\": {\n",
      "            \"Flair\": \"/home/atoriz98/Datasets/BrainGliomas/GliomasImages/LG/0001/VSD.Brain.XX.O.MR_Flair/VSD.Brain.XX.O.MR_Flair.805.mha\",\n",
      "            \"T1\": \"/home/atoriz98/Datasets/BrainGliomas/GliomasImages/LG/0001/VSD.Brain.XX.O.MR_T1/VSD.Brain.XX.O.MR_T1.806.mha\",\n",
      "            \"T1c\": \"/home/atoriz98/Datasets/BrainGliomas/GliomasImages/LG/0001/VSD.Brain.XX.O.MR_T1c/VSD.Brain.XX.O.MR_T1c.807.mha\",\n",
      "            \"T2\": \"/home/atoriz98/Datasets/BrainGliomas/GliomasImages/LG/0001/VSD.Brain.XX.O.MR_T2/VSD.Brain.XX.O.MR_T2.808.mha\",\n",
      "            \"OT\": \"/home/atoriz98/Datasets/BrainGliomas/GliomasImages/LG/0001/VSD.Brain_3more.XX.XX.OT/VSD.Brain_3more.XX.XX.OT.6600.mha\"\n",
      "        },\n",
      "        \"0002\": {\n",
      "            \"Flair\": \"/home/atoriz98/Datasets/BrainGliomas/GliomasImages/LG/0002/VSD.Brain.XX.O.MR_Flair/VSD.Brain.XX.O.MR_Flair.811.mha\",\n",
      "            \"T1\": \"/home/atoriz98/Datasets/BrainGliomas/GliomasImages/LG/0002/VSD.Brain.XX.O.MR_T1/VSD.Brain.XX.O.MR_T1.812.mha\",\n",
      "            \"T1c\": \"/home/atoriz98/Datasets/BrainGliomas/GliomasImages/LG/0002/VSD.Brain.XX.O.MR_T1c/VSD.Brain.XX.O.MR_T1c.813.mha\",\n",
      "            \"T2\": \"/home/atoriz98/Datasets/BrainGliomas/GliomasImages/LG/0002/VSD.Brain.XX.O.MR_T2/VSD.Brain.XX.O.MR_T2.814.mha\",\n",
      "            \"OT\": \"/home/atoriz98/Datasets/BrainGliomas/GliomasImages/LG/0002/VSD.Brain_3more.XX.XX.OT/VSD.Brain_3more.XX.XX.OT.6602.mha\"\n",
      "        },\n",
      "        \"0004\": {\n",
      "            \"Flair\": \"/home/atoriz98/Datasets/BrainGliomas/GliomasImages/LG/0004/VSD.Brain.XX.O.MR_Flair/VSD.Brain.XX.O.MR_Flair.817.mha\",\n",
      "            \"T1\": \"/home/atoriz98/Datasets/BrainGliomas/GliomasImages/LG/0004/VSD.Brain.XX.O.MR_T1/VSD.Brain.XX.O.MR_T1.818.mha\",\n",
      "            \"T1c\": \"/home/atoriz98/Datasets/BrainGliomas/GliomasImages/LG/0004/VSD.Brain.XX.O.MR_T1c/VSD.Brain.XX.O.MR_T1c.819.mha\",\n",
      "            \"T2\": \"/home/atoriz98/Datasets/BrainGliomas/GliomasImages/LG/0004/VSD.Brain.XX.O.MR_T2/VSD.Brain.XX.O.MR_T2.820.mha\",\n",
      "            \"OT\": \"/home/atoriz98/Datasets/BrainGliomas/GliomasImages/LG/0004/VSD.Brain_2more.XX.XX.OT/VSD.Brain_2more.XX.XX.OT.6604.mha\"\n",
      "        },\n",
      "        \"0006\": {\n",
      "            \"Flair\": \"/home/atoriz98/Datasets/BrainGliomas/GliomasImages/LG/0006/VSD.Brain.XX.O.MR_Flair/VSD.Brain.XX.O.MR_Flair.823.mha\",\n",
      "            \"T1\": \"/home/atoriz98/Datasets/BrainGliomas/GliomasImages/LG/0006/VSD.Brain.XX.O.MR_T1/VSD.Brain.XX.O.MR_T1.824.mha\",\n",
      "            \"T1c\": \"/home/atoriz98/Datasets/BrainGliomas/GliomasImages/LG/0006/VSD.Brain.XX.O.MR_T1c/VSD.Brain.XX.O.MR_T1c.825.mha\",\n",
      "            \"T2\": \"/home/atoriz98/Datasets/BrainGliomas/GliomasImages/LG/0006/VSD.Brain.XX.O.MR_T2/VSD.Brain.XX.O.MR_T2.826.mha\",\n",
      "            \"OT\": \"/home/atoriz98/Datasets/BrainGliomas/GliomasImages/LG/0006/VSD.Brain_1more.XX.XX.OT/VSD.Brain_1more.XX.XX.OT.6606.mha\"\n",
      "        },\n",
      "        \"0008\": {\n",
      "            \"Flair\": \"/home/atoriz98/Datasets/BrainGliomas/GliomasImages/LG/0008/VSD.Brain.XX.O.MR_Flair/VSD.Brain.XX.O.MR_Flair.829.mha\",\n",
      "            \"T1\": \"/home/atoriz98/Datasets/BrainGliomas/GliomasImages/LG/0008/VSD.Brain.XX.O.MR_T1/VSD.Brain.XX.O.MR_T1.830.mha\",\n",
      "            \"T1c\": \"/home/atoriz98/Datasets/BrainGliomas/GliomasImages/LG/0008/VSD.Brain.XX.O.MR_T1c/VSD.Brain.XX.O.MR_T1c.831.mha\",\n",
      "            \"T2\": \"/home/atoriz98/Datasets/BrainGliomas/GliomasImages/LG/0008/VSD.Brain.XX.O.MR_T2/VSD.Brain.XX.O.MR_T2.832.mha\",\n",
      "            \"OT\": \"/home/atoriz98/Datasets/BrainGliomas/GliomasImages/LG/0008/VSD.Brain_1more.XX.XX.OT/VSD.Brain_1more.XX.XX.OT.6608.mha\"\n",
      "        },\n",
      "        \"0011\": {\n",
      "            \"Flair\": \"/home/atoriz98/Datasets/BrainGliomas/GliomasImages/LG/0011/VSD.Brain.XX.O.MR_Flair/VSD.Brain.XX.O.MR_Flair.835.mha\",\n",
      "            \"T1\": \"/home/atoriz98/Datasets/BrainGliomas/GliomasImages/LG/0011/VSD.Brain.XX.O.MR_T1/VSD.Brain.XX.O.MR_T1.836.mha\",\n",
      "            \"T1c\": \"/home/atoriz98/Datasets/BrainGliomas/GliomasImages/LG/0011/VSD.Brain.XX.O.MR_T1c/VSD.Brain.XX.O.MR_T1c.837.mha\",\n",
      "            \"T2\": \"/home/atoriz98/Datasets/BrainGliomas/GliomasImages/LG/0011/VSD.Brain.XX.O.MR_T2/VSD.Brain.XX.O.MR_T2.838.mha\",\n",
      "            \"OT\": \"/home/atoriz98/Datasets/BrainGliomas/GliomasImages/LG/0011/VSD.Brain_1more.XX.XX.OT/VSD.Brain_1more.XX.XX.OT.6610.mha\"\n",
      "        },\n",
      "        \"0012\": {\n",
      "            \"Flair\": \"/home/atoriz98/Datasets/BrainGliomas/GliomasImages/LG/0012/VSD.Brain.XX.O.MR_Flair/VSD.Brain.XX.O.MR_Flair.841.mha\",\n",
      "            \"T1\": \"/home/atoriz98/Datasets/BrainGliomas/GliomasImages/LG/0012/VSD.Brain.XX.O.MR_T1/VSD.Brain.XX.O.MR_T1.842.mha\",\n",
      "            \"T1c\": \"/home/atoriz98/Datasets/BrainGliomas/GliomasImages/LG/0012/VSD.Brain.XX.O.MR_T1c/VSD.Brain.XX.O.MR_T1c.843.mha\",\n",
      "            \"T2\": \"/home/atoriz98/Datasets/BrainGliomas/GliomasImages/LG/0012/VSD.Brain.XX.O.MR_T2/VSD.Brain.XX.O.MR_T2.844.mha\",\n",
      "            \"OT\": \"/home/atoriz98/Datasets/BrainGliomas/GliomasImages/LG/0012/VSD.Brain_1more.XX.XX.OT/VSD.Brain_1more.XX.XX.OT.6612.mha\"\n",
      "        },\n",
      "        \"0013\": {\n",
      "            \"Flair\": \"/home/atoriz98/Datasets/BrainGliomas/GliomasImages/LG/0013/VSD.Brain.XX.O.MR_Flair/VSD.Brain.XX.O.MR_Flair.847.mha\",\n",
      "            \"T1\": \"/home/atoriz98/Datasets/BrainGliomas/GliomasImages/LG/0013/VSD.Brain.XX.O.MR_T1/VSD.Brain.XX.O.MR_T1.848.mha\",\n",
      "            \"T1c\": \"/home/atoriz98/Datasets/BrainGliomas/GliomasImages/LG/0013/VSD.Brain.XX.O.MR_T1c/VSD.Brain.XX.O.MR_T1c.849.mha\",\n",
      "            \"T2\": \"/home/atoriz98/Datasets/BrainGliomas/GliomasImages/LG/0013/VSD.Brain.XX.O.MR_T2/VSD.Brain.XX.O.MR_T2.850.mha\",\n",
      "            \"OT\": \"/home/atoriz98/Datasets/BrainGliomas/GliomasImages/LG/0013/VSD.Brain_2more.XX.XX.OT/VSD.Brain_2more.XX.XX.OT.6614.mha\"\n",
      "        },\n",
      "        \"0014\": {\n",
      "            \"Flair\": \"/home/atoriz98/Datasets/BrainGliomas/GliomasImages/LG/0014/VSD.Brain.XX.O.MR_Flair/VSD.Brain.XX.O.MR_Flair.853.mha\",\n",
      "            \"T1\": \"/home/atoriz98/Datasets/BrainGliomas/GliomasImages/LG/0014/VSD.Brain.XX.O.MR_T1/VSD.Brain.XX.O.MR_T1.854.mha\",\n",
      "            \"T1c\": \"/home/atoriz98/Datasets/BrainGliomas/GliomasImages/LG/0014/VSD.Brain.XX.O.MR_T1c/VSD.Brain.XX.O.MR_T1c.855.mha\",\n",
      "            \"T2\": \"/home/atoriz98/Datasets/BrainGliomas/GliomasImages/LG/0014/VSD.Brain.XX.O.MR_T2/VSD.Brain.XX.O.MR_T2.856.mha\",\n",
      "            \"OT\": \"/home/atoriz98/Datasets/BrainGliomas/GliomasImages/LG/0014/VSD.Brain_2more.XX.XX.OT/VSD.Brain_2more.XX.XX.OT.6616.mha\"\n",
      "        },\n",
      "        \"0015\": {\n",
      "            \"Flair\": \"/home/atoriz98/Datasets/BrainGliomas/GliomasImages/LG/0015/VSD.Brain.XX.O.MR_Flair/VSD.Brain.XX.O.MR_Flair.859.mha\",\n",
      "            \"T1\": \"/home/atoriz98/Datasets/BrainGliomas/GliomasImages/LG/0015/VSD.Brain.XX.O.MR_T1/VSD.Brain.XX.O.MR_T1.860.mha\",\n",
      "            \"T1c\": {},\n",
      "            \"T2\": \"/home/atoriz98/Datasets/BrainGliomas/GliomasImages/LG/0015/VSD.Brain.XX.O.MR_T2/VSD.Brain.XX.O.MR_T2.862.mha\",\n",
      "            \"OT\": \"/home/atoriz98/Datasets/BrainGliomas/GliomasImages/LG/0015/VSD.Brain_1more.XX.XX.OT/VSD.Brain_1more.XX.XX.OT.6618.mha\"\n",
      "        }\n",
      "    }\n",
      "}\n"
     ]
    }
   ],
   "source": [
    "# Print Dataset for easy reading\n",
    "print(json.dumps(Dataset, indent=4))"
   ]
  },
  {
   "cell_type": "markdown",
   "id": "specific-diesel",
   "metadata": {},
   "source": [
    "#### Cargamos una imagen para observarla"
   ]
  },
  {
   "cell_type": "code",
   "execution_count": 11,
   "id": "ultimate-photographer",
   "metadata": {},
   "outputs": [],
   "source": [
    "img = itk.imread(Dataset['HG']['0001']['Flair'])"
   ]
  },
  {
   "cell_type": "code",
   "execution_count": 12,
   "id": "continental-captain",
   "metadata": {},
   "outputs": [
    {
     "data": {
      "text/plain": [
       "itk.itkImagePython.itkImageSS3"
      ]
     },
     "execution_count": 12,
     "metadata": {},
     "output_type": "execute_result"
    }
   ],
   "source": [
    "# Variable type\n",
    "type(img)"
   ]
  },
  {
   "cell_type": "code",
   "execution_count": 13,
   "id": "driven-louisville",
   "metadata": {},
   "outputs": [],
   "source": [
    "# Convert to numpy array\n",
    "np_img = itk.GetArrayFromImage(img)"
   ]
  },
  {
   "cell_type": "code",
   "execution_count": 14,
   "id": "available-rating",
   "metadata": {},
   "outputs": [
    {
     "data": {
      "text/plain": [
       "numpy.ndarray"
      ]
     },
     "execution_count": 14,
     "metadata": {},
     "output_type": "execute_result"
    }
   ],
   "source": [
    "# Variable type\n",
    "type(np_img)"
   ]
  },
  {
   "cell_type": "code",
   "execution_count": 24,
   "id": "packed-disclosure",
   "metadata": {},
   "outputs": [
    {
     "data": {
      "text/plain": [
       "<matplotlib.image.AxesImage at 0x7fb5f2ee27c0>"
      ]
     },
     "execution_count": 24,
     "metadata": {},
     "output_type": "execute_result"
    },
    {
     "data": {
      "image/png": "[encoded data removed]",
      "text/plain": [
       "<Figure size 432x288 with 1 Axes>"
      ]
     },
     "metadata": {
      "needs_background": "light"
     },
     "output_type": "display_data"
    }
   ],
   "source": [
    "# Show Image\n",
    "plt.imshow(np_img[:,90,:],cmap='gray')"
   ]
  },
  {
   "cell_type": "code",
   "execution_count": 25,
   "id": "dental-style",
   "metadata": {},
   "outputs": [
    {
     "data": {
      "application/vnd.jupyter.widget-view+json": {
       "model_id": "d7eb9c318f8141bfa531dc3636275434",
       "version_major": 2,
       "version_minor": 0
      },
      "text/plain": [
       "Viewer(geometries=[], gradient_opacity=0.22, point_sets=[], rendered_image=<itk.itkImagePython.itkImageSS3; pr…"
      ]
     },
     "metadata": {},
     "output_type": "display_data"
    }
   ],
   "source": [
    "# Mostramos el volumen\n",
    "view(img)"
   ]
  },
  {
   "cell_type": "code",
   "execution_count": 17,
   "id": "inappropriate-strategy",
   "metadata": {},
   "outputs": [],
   "source": [
    "img2 = itk.imread(Dataset['LG']['0001']['Flair'])"
   ]
  },
  {
   "cell_type": "code",
   "execution_count": 18,
   "id": "grand-austin",
   "metadata": {},
   "outputs": [
    {
     "data": {
      "application/vnd.jupyter.widget-view+json": {
       "model_id": "a4ca4f3124df4c66bfc3d2276af771d9",
       "version_major": 2,
       "version_minor": 0
      },
      "text/plain": [
       "Viewer(geometries=[], gradient_opacity=0.22, point_sets=[], rendered_image=<itk.itkImagePython.itkImageSS3; pr…"
      ]
     },
     "metadata": {},
     "output_type": "display_data"
    }
   ],
   "source": [
    "view(img2)"
   ]
  },
  {
   "cell_type": "code",
   "execution_count": null,
   "id": "western-meter",
   "metadata": {},
   "outputs": [],
   "source": []
  }
 ],
 "metadata": {
  "kernelspec": {
   "display_name": "Python 3",
   "language": "python",
   "name": "python3"
  },
  "language_info": {
   "codemirror_mode": {
    "name": "ipython",
    "version": 3
   },
   "file_extension": ".py",
   "mimetype": "text/x-python",
   "name": "python",
   "nbconvert_exporter": "python",
   "pygments_lexer": "ipython3",
   "version": "3.8.5"
  }
 },
 "nbformat": 4,
 "nbformat_minor": 5
}
